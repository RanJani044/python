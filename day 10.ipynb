{
 "cells": [
  {
   "cell_type": "code",
   "execution_count": 4,
   "metadata": {},
   "outputs": [
    {
     "name": "stdout",
     "output_type": "stream",
     "text": [
      "file is created successfully and data is written\n"
     ]
    }
   ],
   "source": [
    "#functions to create file and write some data\n",
    "def createfile(filename):\n",
    "    f =open (filename,\"w\")\n",
    "    for i in range(10):\n",
    "        f.write(\"this is %d line\\n\"% i)\n",
    "    print(\"file is created successfully and data is written\")\n",
    "    f.close()\n",
    "    return\n",
    "createfile(\"file.txt\")"
   ]
  },
  {
   "cell_type": "code",
   "execution_count": 12,
   "metadata": {},
   "outputs": [
    {
     "name": "stdout",
     "output_type": "stream",
     "text": [
      "this is 0 line\n",
      "this is 1 line\n",
      "this is 2 line\n",
      "this is 3 line\n",
      "this is 4 line\n",
      "this is 5 line\n",
      "this is 6 line\n",
      "this is 7 line\n",
      "this is 8 line\n",
      "this is 9 line\n",
      "\n"
     ]
    }
   ],
   "source": [
    "#function for reading the file data\n",
    "def readFile(filename):\n",
    "    f = open(filename,\"r\")\n",
    "    if f.mode == \"r\":\n",
    "        x = f.read()\n",
    "        print(x)\n",
    "    f.close()\n",
    "    return\n",
    "readFile(\"file.txt\")"
   ]
  },
  {
   "cell_type": "code",
   "execution_count": 20,
   "metadata": {},
   "outputs": [],
   "source": [
    "#data to append\n",
    "#function to append the data to existing file\n",
    "def appendData(filename):\n",
    "    f = open(filename,\"a\")\n",
    "    f.write(\"new line 1\\n\")\n",
    "    f.write(\"how line 2\\n\")\n",
    "    \n",
    "    return\n",
    "appendData(\"file.txt\")"
   ]
  },
  {
   "cell_type": "code",
   "execution_count": 19,
   "metadata": {},
   "outputs": [
    {
     "name": "stdout",
     "output_type": "stream",
     "text": [
      "0\n"
     ]
    }
   ],
   "source": [
    "def dataAnalysisWordcount(filename,word):\n",
    "    f = open(filename,\"r\")\n",
    "    if f.mode == \"r\":\n",
    "        x=f.read()\n",
    "        list = x.split()\n",
    "    cnt = list.count(word)\n",
    "    return cnt\n",
    "\n",
    "print(dataAnalysisWordcount(\"file1.txt\",'rest'))"
   ]
  },
  {
   "cell_type": "code",
   "execution_count": 21,
   "metadata": {},
   "outputs": [
    {
     "data": {
      "text/plain": [
       "0"
      ]
     },
     "execution_count": 21,
     "metadata": {},
     "output_type": "execute_result"
    }
   ],
   "source": [
    "def uppercasecount(filename):\n",
    "    cntUpper=0\n",
    "    f=open(filename,\"r\")\n",
    "    if f.mode==\"r\":\n",
    "        x=f.read()\n",
    "        lst=list(x)\n",
    "    for i in lst:\n",
    "        if i.isupper():\n",
    "            cntUpper+=1\n",
    "    return cntUpper\n",
    "uppercasecount(\"file1.txt\")\n"
   ]
  },
  {
   "cell_type": "code",
   "execution_count": 24,
   "metadata": {},
   "outputs": [
    {
     "data": {
      "text/plain": [
       "2"
      ]
     },
     "execution_count": 24,
     "metadata": {},
     "output_type": "execute_result"
    }
   ],
   "source": [
    "def countlines(filename):\n",
    "    f=open(filename,\"r\")\n",
    "    if f.mode==\"r\":\n",
    "        x=f.read()\n",
    "        list=x.split(\"\\n\")\n",
    "    return len(list)\n",
    "\n",
    "countlines(\"file1.txt\")"
   ]
  },
  {
   "cell_type": "markdown",
   "metadata": {},
   "source": [
    "#regular expression for indian mobile number\n",
    "#validation for EmailID Username@DomainName.extension\n",
    "#9876543210 -- first digit[6-9][0-9]\n",
    "#0987543210 -- firdt digit zero second digit[6-9] last 9 digits[0-9]\n",
    "+919876543210 -- first + sign ,second digit [0-9] ,third digit 1,\n",
    "                 #fourth digit [6-9] rest of a digit [0-9]"
   ]
  },
  {
   "cell_type": "markdown",
   "metadata": {},
   "source": []
  },
  {
   "cell_type": "code",
   "execution_count": 25,
   "metadata": {},
   "outputs": [
    {
     "name": "stdout",
     "output_type": "stream",
     "text": [
      "False\n",
      "False\n",
      "False\n"
     ]
    }
   ],
   "source": [
    "import re \n",
    "def phoneNumberValidate(phone):\n",
    "    pattern = '^[6-9][0-9]{9}$^[0][6-9][0-9]$[+[9][1][6-9][0-9]{9}$]'\n",
    "    phone = str(phone)\n",
    "    if re.match(pattern,phone):\n",
    "        return True\n",
    "    return False\n",
    "print(phoneNumberValidate(\"9866525685\"))\n",
    "print(phoneNumberValidate(\"09866525685\"))\n",
    "print(phoneNumberValidate(+919866525685))    \n"
   ]
  },
  {
   "cell_type": "markdown",
   "metadata": {},
   "source": [
    "# RE -- validation of roll number\n",
    "### 152U1A0501"
   ]
  },
  {
   "cell_type": "code",
   "execution_count": 29,
   "metadata": {},
   "outputs": [
    {
     "name": "stdout",
     "output_type": "stream",
     "text": [
      "False\n",
      "False\n"
     ]
    }
   ],
   "source": [
    "import re \n",
    "def validateRollnumber(number):\n",
    "    number = str(number)\n",
    "    pattern = \"^[1][5][2][U][1][A][0][1-9][0-6]$\";\n",
    "    if re.match(pattern,number):\n",
    "        return True\n",
    "    return False\n",
    "print(validateRollnumber(\"152U1A0555\"))\n",
    "print(validateRollnumber(\"152U1A0485\"))"
   ]
  },
  {
   "cell_type": "code",
   "execution_count": 30,
   "metadata": {},
   "outputs": [
    {
     "name": "stdout",
     "output_type": "stream",
     "text": [
      "0\n"
     ]
    }
   ],
   "source": [
    "def dataAnalysisWordCount(filename,word):\n",
    "    f = open(filename,\"r\")\n",
    "    if f.mode == \"r\":\n",
    "        x = f.read()\n",
    "        list = x.split()\n",
    "    cnt = list.count(word)\n",
    "    return cnt\n",
    "\n",
    "print(dataAnalysisWordCount(\"file1.txt\",'rest'))"
   ]
  },
  {
   "cell_type": "code",
   "execution_count": null,
   "metadata": {},
   "outputs": [],
   "source": [
    "##pattern (RE) represents the set of values that a given pattern\n",
    "\n",
    "#1) [0-9] --> Any Digit\n",
    "\n",
    "#2) [a-z] --> Any Lower case characters\n",
    "\n",
    "#3) [A-Z] --> Any Upper Case characters\n",
    "\n",
    "#4) [2468] --> Multiplies of 2\n",
    "\n",
    "#5) ^[0-9]{1} --> Onlysingle digit number \n",
    "      # i)  cap symbol used for start of regular expression\n",
    "      # ii) Dollar symbol is used to end the regular expression\n",
    "#6) ^[0-9](3)--> Onlysingle digit number       # i)  cap symbol used for start of regular expression      # ii) Dollar symbol is used to end the regular expression#6) ^[0-9](3)  --> regular expression but will accept only three didgit number\n",
    "\n",
    "#7) ^[a-z]{5} -->It only accepts five character strings from the lower case\n",
    "#8) ^[a-zA-Z]{6}-->It only accepts five character strings from the lower case#8) ^[a-zA-Z]{6}  --> It accepts character strings of upper / lower case\n",
    "\n",
    "#9) ^[a-zA-Z]{6-15} --> A string of min 6 characters and max of 15 characters\n",
    "#10) ^[a-zA-Z0-9]{6-15} -->Upper vand lower and even digits are taken\n",
    "#11) ^[6-9][0-9]{9}--> A string of min 6 characters and max of 15 characters#10) ^[a-zA-Z0-9]{6-15} -->Upper vand lower and even digits are taken#11) ^[6-9][0-9]{9}  -- RE forIndian Mobile Number\n",
    "\n",
    "#12) ^[0][6-9][0-9]{9} -- RE for Indian Mobile Number \n",
    "#13) [+][9][1][6-9][0-9]{9}-- RE for Indian Mobile Number #13) [+][9][1][6-9][0-9]{9}  -- RE for Indian Mobile Number EmailID Validation Username@DomainName.extension ** username:\n",
    "\n",
    "    * Length will be [6-15]\n",
    "    * No spl chars apart from _\n",
    "    * Should not begin and end with _\n",
    "    * Character set : All digits and lower case alphabets _ \n",
    "        \n",
    "** Domain Name\n",
    "\n",
    "   * Length of domain: [3,18]\n",
    "   * No spl characters \n",
    "   * Character set : all digits and lower case alphabets\n",
    "        \n",
    "** Extension\n",
    "\n",
    "   * Length of extension : [2,4]\n",
    "   * No Spl characters \n",
    "   * Character set : lower case characters "
   ]
  },
  {
   "cell_type": "code",
   "execution_count": 35,
   "metadata": {
    "scrolled": true
   },
   "outputs": [
    {
     "name": "stdout",
     "output_type": "stream",
     "text": [
      "True\n",
      "False\n"
     ]
    }
   ],
   "source": [
    "#validation for EmailID Username@DomainName.extension\n",
    "import re\n",
    "def validateEmailID(email):\n",
    "    pattern = \"^[0-9a-z][0-9a-z_.]{4,13}[0-9a-z][@][a-z0-9]{3,18}[.][a-z]{2,4}$\"\n",
    "    if re.match(pattern,email):\n",
    "        return True\n",
    "    return False\n",
    "print(validateEmailID(\"anil.1889@gmail.com\"))\n",
    "print(validateEmailID(\"$anil.1889@gmail.com\"))\n"
   ]
  },
  {
   "cell_type": "code",
   "execution_count": null,
   "metadata": {},
   "outputs": [],
   "source": [
    "import re\n",
    "def validatePassword(s):\n",
    "    pattern = \"^[a-zA-Z0-9]!@#$]{6,15}$\"\n",
    "    if re.match(pattern,s):\n",
    "        return True \n",
    "    return False\n",
    "print(validatePassword(\"Anil1889@21#m\"))\n",
    "print(validatePassword(\"\"))"
   ]
  },
  {
   "cell_type": "code",
   "execution_count": null,
   "metadata": {},
   "outputs": [],
   "source": []
  }
 ],
 "metadata": {
  "kernelspec": {
   "display_name": "Python 3",
   "language": "python",
   "name": "python3"
  },
  "language_info": {
   "codemirror_mode": {
    "name": "ipython",
    "version": 3
   },
   "file_extension": ".py",
   "mimetype": "text/x-python",
   "name": "python",
   "nbconvert_exporter": "python",
   "pygments_lexer": "ipython3",
   "version": "3.7.3"
  }
 },
 "nbformat": 4,
 "nbformat_minor": 2
}
